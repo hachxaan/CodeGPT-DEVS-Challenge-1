{
  "nbformat": 4,
  "nbformat_minor": 0,
  "metadata": {
    "colab": {
      "provenance": [],
      "include_colab_link": true
    },
    "kernelspec": {
      "name": "python3",
      "display_name": "Python 3"
    },
    "language_info": {
      "name": "python"
    }
  },
  "cells": [
    {
      "cell_type": "markdown",
      "metadata": {
        "id": "view-in-github",
        "colab_type": "text"
      },
      "source": [
        "<a href=\"https://colab.research.google.com/github/hachxaan/CodeGPT-DEVS-Challenge-1/blob/master/Copia_de_CodeGPT_Challeng%F0%9F%90%8D%F0%9F%91%A9%E2%80%8D%F0%9F%92%BB_Starter_kit.ipynb\" target=\"_parent\"><img src=\"https://colab.research.google.com/assets/colab-badge.svg\" alt=\"Open In Colab\"/></a>"
      ]
    },
    {
      "cell_type": "markdown",
      "source": [
        "# Welcome to the CodeGPT-DEVS Challenge! 🚀 🦾\n",
        "\n",
        "We are pleased to announce that we have entered the exciting stage of the CodeGPT-DEVS Challenge. Each month, we will launch a challenge for all developers who are interested in creating projects using the innovative technology of CodeGPT.\n",
        "\n",
        "Our goal is to encourage participation and collaboration from the entire community in these projects, and thus be able to formalize our emerging Developer Program. To start, this week we have thought of a small project to warm up.\n",
        "\n",
        "## The Challenge 🦾\n",
        "\n",
        "The challenge is extract specific data from a set of documents (corpus) to then form structured data.\n",
        "\n",
        "### Rules 👮\n",
        "\n",
        "- You must use CodeGPT agents to extract information from the documents, obligatorily.\n",
        "- The input must be the data provided by the task in section 1.\n",
        "- The output must be a CSV.\n",
        "- You can use the libraries you want, as long as they are not used to extract information from the documents.\n",
        "\n",
        "### Resolution Time ⏳\n",
        "\n",
        "The challenge will take place from November 14 to November 29.\n",
        "\n",
        "### Prizes 🎖️\n",
        "\n",
        "- Section 1 only: Extension of your free-trail plan for 1 month.\n",
        "- Section 1 and 2: Basic package for 3 months.\n",
        "- Section 1,2,3: Standard package for 3 months.\n",
        "- Section 1,2,3,4: Standard package for 3 months + advice for 2 sessions with the CodeGPT team.\n",
        "\n",
        "### Rating ✅\n",
        "\n",
        "The following criteria will be taken into account as well:\n",
        "\n",
        "- Quality of the CSV: maximum 10% of NaN in all fields.\n",
        "- Delivery time: it can be delivered from the day of the launch until the final date.\n",
        "- Code effectiveness: avoid unnecessary lines and redundant processes, recommended use of functions.\n",
        "- Efficient use of agents: through the SDK or the API.\n",
        "\n",
        "## Instructions: 🗎\n",
        "- Make a copy of the notebook\n",
        "- Get crazy with the challenge (have fun!)🤪 😺\n",
        "- Send the link when you finish to: pilar.hidalgo@judini.ai, with your full name ✉️\n",
        "- Additionally, extras might be free access links\n",
        "\n",
        " Here I attach the link of the notebook, make a copy and go ahead! We look forward to seeing the incredible solutions that our developer community can create! Let's start! :exploding_head:"
      ],
      "metadata": {
        "id": "dvT91FxVafgy"
      }
    },
    {
      "cell_type": "markdown",
      "source": [
        "# 🐍🧑🏽‍💻👩🏽‍💻 **CodeGPT API Example**\n",
        "\n",
        "This section demonstrates how to use the CodeGPT API to generate text completions using an AI language model. The notebook imports the necessary libraries, defines a function to make API requests, and provides an example of how to use the function to generate a text completion. The notebook requires a CodeGPT API key and agent ID to function properly.\n",
        "\n",
        "#### **Start now**\n",
        "- [CodeGPT API](#)\n",
        "- [CodeGPT Create account](#)\n",
        "- [CodeGPT VSCODE Extension](#)\n"
      ],
      "metadata": {
        "id": "zTE-608uSRr6"
      }
    },
    {
      "cell_type": "code",
      "source": [
        "!pip install requests\n",
        "!pip  install  judini\n",
        "!python -m pip install python-dotenv\n",
        "!pip install nest_asyncio"
      ],
      "metadata": {
        "id": "ZaDrpOOrIMQF",
        "colab": {
          "base_uri": "https://localhost:8080/",
          "height": 616
        },
        "outputId": "f9397ab6-0edd-4b5c-912c-74ac3cceb4fb"
      },
      "execution_count": null,
      "outputs": [
        {
          "output_type": "stream",
          "name": "stdout",
          "text": [
            "Requirement already satisfied: requests in /usr/local/lib/python3.10/dist-packages (2.31.0)\n",
            "Requirement already satisfied: charset-normalizer<4,>=2 in /usr/local/lib/python3.10/dist-packages (from requests) (3.3.2)\n",
            "Requirement already satisfied: idna<4,>=2.5 in /usr/local/lib/python3.10/dist-packages (from requests) (3.4)\n",
            "Requirement already satisfied: urllib3<3,>=1.21.1 in /usr/local/lib/python3.10/dist-packages (from requests) (2.0.7)\n",
            "Requirement already satisfied: certifi>=2017.4.17 in /usr/local/lib/python3.10/dist-packages (from requests) (2023.7.22)\n",
            "Collecting judini\n",
            "  Downloading judini-0.0.20-py3-none-any.whl (4.4 kB)\n",
            "Requirement already satisfied: requests in /usr/local/lib/python3.10/dist-packages (from judini) (2.31.0)\n",
            "Requirement already satisfied: aiohttp in /usr/local/lib/python3.10/dist-packages (from judini) (3.8.6)\n",
            "Collecting asyncio (from judini)\n",
            "  Downloading asyncio-3.4.3-py3-none-any.whl (101 kB)\n",
            "\u001b[2K     \u001b[90m━━━━━━━━━━━━━━━━━━━━━━━━━━━━━━━━━━━━━━━━\u001b[0m \u001b[32m101.8/101.8 kB\u001b[0m \u001b[31m2.3 MB/s\u001b[0m eta \u001b[36m0:00:00\u001b[0m\n",
            "\u001b[?25hRequirement already satisfied: attrs>=17.3.0 in /usr/local/lib/python3.10/dist-packages (from aiohttp->judini) (23.1.0)\n",
            "Requirement already satisfied: charset-normalizer<4.0,>=2.0 in /usr/local/lib/python3.10/dist-packages (from aiohttp->judini) (3.3.2)\n",
            "Requirement already satisfied: multidict<7.0,>=4.5 in /usr/local/lib/python3.10/dist-packages (from aiohttp->judini) (6.0.4)\n",
            "Requirement already satisfied: async-timeout<5.0,>=4.0.0a3 in /usr/local/lib/python3.10/dist-packages (from aiohttp->judini) (4.0.3)\n",
            "Requirement already satisfied: yarl<2.0,>=1.0 in /usr/local/lib/python3.10/dist-packages (from aiohttp->judini) (1.9.2)\n",
            "Requirement already satisfied: frozenlist>=1.1.1 in /usr/local/lib/python3.10/dist-packages (from aiohttp->judini) (1.4.0)\n",
            "Requirement already satisfied: aiosignal>=1.1.2 in /usr/local/lib/python3.10/dist-packages (from aiohttp->judini) (1.3.1)\n",
            "Requirement already satisfied: idna<4,>=2.5 in /usr/local/lib/python3.10/dist-packages (from requests->judini) (3.4)\n",
            "Requirement already satisfied: urllib3<3,>=1.21.1 in /usr/local/lib/python3.10/dist-packages (from requests->judini) (2.0.7)\n",
            "Requirement already satisfied: certifi>=2017.4.17 in /usr/local/lib/python3.10/dist-packages (from requests->judini) (2023.7.22)\n",
            "Installing collected packages: asyncio, judini\n",
            "Successfully installed asyncio-3.4.3 judini-0.0.20\n"
          ]
        },
        {
          "output_type": "display_data",
          "data": {
            "application/vnd.colab-display-data+json": {
              "pip_warning": {
                "packages": [
                  "asyncio"
                ]
              }
            }
          },
          "metadata": {}
        },
        {
          "output_type": "stream",
          "name": "stdout",
          "text": [
            "Collecting python-dotenv\n",
            "  Downloading python_dotenv-1.0.0-py3-none-any.whl (19 kB)\n",
            "Installing collected packages: python-dotenv\n",
            "Successfully installed python-dotenv-1.0.0\n",
            "Requirement already satisfied: nest_asyncio in /usr/local/lib/python3.10/dist-packages (1.5.8)\n"
          ]
        }
      ]
    },
    {
      "cell_type": "code",
      "source": [
        "import json, requests, re\n",
        "# from dotenv import load_dotenv  # For loading environment variables from a .env file\n",
        "\n",
        "CODEGPT_APIKEY = \"COPY_YOUR_AGENT_ID\"\n",
        "AGENT_ID = \"COPY_YOUR_AGENT_ID\"\n",
        "COMPLETION_URL = f\"https://api.codegpt.co/v1/completion\"\n",
        "\n",
        "def agent(message):\n",
        "    headers = {\"Authorization\": f\"Bearer {CODEGPT_APIKEY}\"}\n",
        "    body = {\n",
        "        \"agent\": AGENT_ID,\n",
        "        \"messages\": [\n",
        "            { \"role\": \"user\", \"content\": message }\n",
        "        ]\n",
        "    }\n",
        "    completion_call = requests.post(COMPLETION_URL, json=body, headers=headers)\n",
        "    if completion_call.status_code == 200:\n",
        "        return parse_completion_response(completion_call.text)\n",
        "    else:\n",
        "        return f\"Error, {json.loads(completion_call.text)['detail']}\"\n",
        "\n",
        "#COMPLETION FUNCTION\n",
        "def parse_completion_response(completion_text):\n",
        "    pattern = r\"data: (.+)\"\n",
        "    matches = re.findall(pattern, completion_text)\n",
        "    completion = ''.join(matches)\n",
        "    return completion"
      ],
      "metadata": {
        "id": "IDLzWUh_IJGZ"
      },
      "execution_count": null,
      "outputs": []
    },
    {
      "cell_type": "code",
      "source": [
        "message = \"What is the main of Telegram bot using Python?\"\n",
        "completion = agent(message)\n",
        "print(completion)"
      ],
      "metadata": {
        "colab": {
          "base_uri": "https://localhost:8080/"
        },
        "id": "Gm6usqnxXeEc",
        "outputId": "db67a2d3-9c79-4cdf-ab07-c4e1311bc76c"
      },
      "execution_count": null,
      "outputs": [
        {
          "output_type": "stream",
          "name": "stdout",
          "text": [
            "The main purpose of a Telegram bot using Python is to automate various tasks and provide interactive services on the Telegram messaging platform. Python provides a convenient way to develop Telegram bots using the Telegram Bot API and various Python libraries such as python-telegram-bot.Some common use cases for Telegram bots include:1. Chatbot: Creating a conversational bot that can respond to user queries, provide information, or perform actions based on user input.2. Notification bot: Sending automated notifications or alerts to users or groups on Telegram.3. Content delivery: Sharing updates, news, or other content with users on Telegram.4. Data retrieval: Fetching data from external sources or APIs and providing it to users on Telegram.5. Task automation: Automating repetitive tasks or workflows using Telegram as the interface.Python provides a rich ecosystem of libraries and frameworks that make it easy to develop and deploy Telegram bots. The python-telegram-bot library, for example, provides a high-level interface for interacting with the Telegram Bot API and handling incoming messages and updates.Overall, the main goal of a Telegram bot using Python is to enhance the user experience on Telegram by providing automated services, information, or interactive features.\n"
          ]
        }
      ]
    },
    {
      "cell_type": "markdown",
      "source": [
        "\n",
        "\n",
        "```\n",
        "The main function in the repository is not explicitly mentioned in the provided documents. However, it is suggested that the main function is to run a Telegram bot using Python. This is inferred from the instructions provided in the document, which include running the code with 'streamlit run app.py', and then interacting with the bot through the Telegram app. The bot generates responses using CodeGPT.\n",
        "```\n",
        "\n"
      ],
      "metadata": {
        "id": "USQcWm0An3Fk"
      }
    },
    {
      "cell_type": "markdown",
      "source": [
        "# Section 1: Get the columns of the data\n",
        "\n",
        "The idea of this section is to use the SDK to obtain information from a set of documents available at this [link](https://drive.google.com/drive/folders/1Che40xffIKKBYIchSSwTdW7tNwuO2v4N?usp=sharing).\n",
        "\n",
        "🚨 **Caution:** Please avoid\n",
        "❌ Getting methods through additional libraries\n",
        "❌ Accessing metadata from the PDFs\n",
        "\n",
        "The columns to extract from the documents are:\n",
        "- Authors' names\n",
        "- Article title\n",
        "- Article abstract\n",
        "- Sections of the paper (only titles)\n",
        "- References\n",
        "\n"
      ],
      "metadata": {
        "id": "ySOdj2pZVeaN"
      }
    },
    {
      "cell_type": "code",
      "source": [
        "#GET THE DATA FROM HERE: https://drive.google.com/drive/folders/1Che40xffIKKBYIchSSwTdW7tNwuO2v4N?usp=sharing\n",
        "#WRITE YOUR CODE HERE\n",
        "#RUN AND PIN YOUR VERSION"
      ],
      "metadata": {
        "id": "_SNNTs78V--C"
      },
      "execution_count": null,
      "outputs": []
    },
    {
      "cell_type": "markdown",
      "source": [
        "# Section 2: Get the dataset and return the CSV output\n",
        "\n",
        "In this section, you should provide the code to display the dataset, generate a dataframe, and perform [topic modeling](https://www.projectpro.io/article/topic-modeling-nlp/801#:~:text=Topic%20modeling%20is%20a%20part,analysis%20to%20analyze%20the%20context.) using the agents. Once again, the following is requested:\n",
        "\n",
        "🚨 **Caution:** Please avoid\n",
        "❌ Getting methods through additional libraries\n",
        "❌ Accessing metadata from the PDFs\n",
        "\n",
        "For more references on the goal of topic modeling as an NLP task, it's available [here](https://towardsdatascience.com/topic-modelling-using-chatgpt-api-8775b0891d16).\n"
      ],
      "metadata": {
        "id": "C_AQEWRwXo3d"
      }
    },
    {
      "cell_type": "code",
      "source": [
        "#WRITE YOUR CODE HERE\n",
        "#RUN AND PIN YOUR VERSION"
      ],
      "metadata": {
        "id": "5AWCLLWuX2ma"
      },
      "execution_count": null,
      "outputs": []
    },
    {
      "cell_type": "markdown",
      "source": [
        "# Section 3: Make the same with your on data\n",
        "\n",
        "Now you can try with your own dataset. Make sure that we can access the folder or repository where it is stored. Don't worry; we will only access it once to run the notebook, and we won't use your information for any other purposes.\n",
        "\n",
        "Repet process in Section 1 and Section 2, for your data"
      ],
      "metadata": {
        "id": "DK1IZwFhX3AP"
      }
    },
    {
      "cell_type": "code",
      "source": [
        "#WRITE YOUR CODE HERE\n",
        "#RUN AND PIN YOUR VERSION"
      ],
      "metadata": {
        "id": "GLgNBLhfX9NJ"
      },
      "execution_count": null,
      "outputs": []
    },
    {
      "cell_type": "markdown",
      "source": [
        "# Section 4: Use other agents API and compare the results\n",
        "\n",
        "Now, we invite you to try the SDK or solutions from other AI Agents (OpenAI, etc.) and share your experience with us.\n"
      ],
      "metadata": {
        "id": "HvQO28hcX9sX"
      }
    }
  ]
}